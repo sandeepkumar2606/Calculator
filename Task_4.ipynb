{
  "nbformat": 4,
  "nbformat_minor": 0,
  "metadata": {
    "colab": {
      "provenance": [],
      "include_colab_link": true
    },
    "kernelspec": {
      "name": "python3",
      "display_name": "Python 3"
    },
    "language_info": {
      "name": "python"
    }
  },
  "cells": [
    {
      "cell_type": "markdown",
      "metadata": {
        "id": "view-in-github",
        "colab_type": "text"
      },
      "source": [
        "<a href=\"https://colab.research.google.com/github/sandeepkumar2606/Calculator/blob/master/Task_4.ipynb\" target=\"_parent\"><img src=\"https://colab.research.google.com/assets/colab-badge.svg\" alt=\"Open In Colab\"/></a>"
      ]
    },
    {
      "cell_type": "markdown",
      "source": [
        "# Installing PySpark"
      ],
      "metadata": {
        "id": "GUwOAvxq4hFV"
      }
    },
    {
      "cell_type": "code",
      "execution_count": 1,
      "metadata": {
        "colab": {
          "base_uri": "https://localhost:8080/"
        },
        "id": "2p7asOlm355p",
        "outputId": "068b1830-0751-4023-d165-91d40a5d8178"
      },
      "outputs": [
        {
          "output_type": "stream",
          "name": "stdout",
          "text": [
            "Looking in indexes: https://pypi.org/simple, https://us-python.pkg.dev/colab-wheels/public/simple/\n",
            "Collecting pyspark\n",
            "  Downloading pyspark-3.3.2.tar.gz (281.4 MB)\n",
            "\u001b[2K     \u001b[90m━━━━━━━━━━━━━━━━━━━━━━━━━━━━━━━━━━━━━━━\u001b[0m \u001b[32m281.4/281.4 MB\u001b[0m \u001b[31m3.8 MB/s\u001b[0m eta \u001b[36m0:00:00\u001b[0m\n",
            "\u001b[?25h  Preparing metadata (setup.py) ... \u001b[?25l\u001b[?25hdone\n",
            "Collecting py4j==0.10.9.5\n",
            "  Downloading py4j-0.10.9.5-py2.py3-none-any.whl (199 kB)\n",
            "\u001b[2K     \u001b[90m━━━━━━━━━━━━━━━━━━━━━━━━━━━━━━━━━━━━━━\u001b[0m \u001b[32m199.7/199.7 kB\u001b[0m \u001b[31m20.3 MB/s\u001b[0m eta \u001b[36m0:00:00\u001b[0m\n",
            "\u001b[?25hBuilding wheels for collected packages: pyspark\n",
            "  Building wheel for pyspark (setup.py) ... \u001b[?25l\u001b[?25hdone\n",
            "  Created wheel for pyspark: filename=pyspark-3.3.2-py2.py3-none-any.whl size=281824028 sha256=caeb46723188e5255e4b196ba81809c4ec6b12c6cf962fea9a3a2dd008e39a12\n",
            "  Stored in directory: /root/.cache/pip/wheels/6c/e3/9b/0525ce8a69478916513509d43693511463c6468db0de237c86\n",
            "Successfully built pyspark\n",
            "Installing collected packages: py4j, pyspark\n",
            "  Attempting uninstall: py4j\n",
            "    Found existing installation: py4j 0.10.9.7\n",
            "    Uninstalling py4j-0.10.9.7:\n",
            "      Successfully uninstalled py4j-0.10.9.7\n",
            "Successfully installed py4j-0.10.9.5 pyspark-3.3.2\n"
          ]
        }
      ],
      "source": [
        "! pip install pyspark"
      ]
    },
    {
      "cell_type": "code",
      "source": [
        "from pyspark.sql import SparkSession\n",
        "\n",
        "spark = SparkSession\\\n",
        "        .builder\\\n",
        "        .appName(\"Python Spark regression example\")\\\n",
        "        .config(\"spark.some.config.option\", \"some-value\")\\\n",
        "        .getOrCreate()"
      ],
      "metadata": {
        "id": "PshfUjEu4lBs"
      },
      "execution_count": 2,
      "outputs": []
    },
    {
      "cell_type": "code",
      "source": [
        "!ls"
      ],
      "metadata": {
        "colab": {
          "base_uri": "https://localhost:8080/"
        },
        "id": "4IiCx1rw4yHA",
        "outputId": "7000401e-ea0a-44c7-c96b-22857f39003c"
      },
      "execution_count": 3,
      "outputs": [
        {
          "output_type": "stream",
          "name": "stdout",
          "text": [
            "sample_data\n"
          ]
        }
      ]
    },
    {
      "cell_type": "code",
      "source": [
        "df = spark.read.format(\"csv\").\\\n",
        "                options(inferSchema = True, header = True).\\\n",
        "                load(\"/content/Advertising.csv\", header=True)\n",
        "\n",
        "\n",
        "print(df.show(5, False)) # Shows first five records and does not truncate values\n",
        "\n",
        "print(df.printSchema())"
      ],
      "metadata": {
        "colab": {
          "base_uri": "https://localhost:8080/"
        },
        "id": "t6bGiV5H405I",
        "outputId": "105fbbd2-2000-486e-9aae-dfa2c3b3da92"
      },
      "execution_count": 5,
      "outputs": [
        {
          "output_type": "stream",
          "name": "stdout",
          "text": [
            "+---+-----+-----+---------+-----+\n",
            "|_c0|TV   |Radio|Newspaper|Sales|\n",
            "+---+-----+-----+---------+-----+\n",
            "|1  |230.1|37.8 |69.2     |22.1 |\n",
            "|2  |44.5 |39.3 |45.1     |10.4 |\n",
            "|3  |17.2 |45.9 |69.3     |9.3  |\n",
            "|4  |151.5|41.3 |58.5     |18.5 |\n",
            "|5  |180.8|10.8 |58.4     |12.9 |\n",
            "+---+-----+-----+---------+-----+\n",
            "only showing top 5 rows\n",
            "\n",
            "None\n",
            "root\n",
            " |-- _c0: integer (nullable = true)\n",
            " |-- TV: double (nullable = true)\n",
            " |-- Radio: double (nullable = true)\n",
            " |-- Newspaper: double (nullable = true)\n",
            " |-- Sales: double (nullable = true)\n",
            "\n",
            "None\n"
          ]
        }
      ]
    },
    {
      "cell_type": "code",
      "source": [
        "# Describe the dataset, the result will be shown for all feature columns\n",
        "df.describe().show()\n",
        "\n",
        "# Describe the numeriacl statistics for just a signle colums\n",
        "df.select(\"TV\").describe().show()"
      ],
      "metadata": {
        "colab": {
          "base_uri": "https://localhost:8080/"
        },
        "id": "qbWnSFlO46Td",
        "outputId": "dc6682ab-e4ff-4676-9fb5-da683d5a6891"
      },
      "execution_count": 6,
      "outputs": [
        {
          "output_type": "stream",
          "name": "stdout",
          "text": [
            "+-------+------------------+-----------------+------------------+------------------+------------------+\n",
            "|summary|               _c0|               TV|             Radio|         Newspaper|             Sales|\n",
            "+-------+------------------+-----------------+------------------+------------------+------------------+\n",
            "|  count|               200|              200|               200|               200|               200|\n",
            "|   mean|             100.5|         147.0425|23.264000000000024|30.553999999999995|14.022500000000003|\n",
            "| stddev|57.879184513951124|85.85423631490805|14.846809176168728| 21.77862083852283| 5.217456565710477|\n",
            "|    min|                 1|              0.7|               0.0|               0.3|               1.6|\n",
            "|    max|               200|            296.4|              49.6|             114.0|              27.0|\n",
            "+-------+------------------+-----------------+------------------+------------------+------------------+\n",
            "\n",
            "+-------+-----------------+\n",
            "|summary|               TV|\n",
            "+-------+-----------------+\n",
            "|  count|              200|\n",
            "|   mean|         147.0425|\n",
            "| stddev|85.85423631490805|\n",
            "|    min|              0.7|\n",
            "|    max|            296.4|\n",
            "+-------+-----------------+\n",
            "\n"
          ]
        }
      ]
    },
    {
      "cell_type": "markdown",
      "source": [
        "## Printing column names"
      ],
      "metadata": {
        "id": "GZW1Tajx5Eko"
      }
    },
    {
      "cell_type": "code",
      "source": [
        "col_names = df.columns\n",
        "print(col_names)"
      ],
      "metadata": {
        "colab": {
          "base_uri": "https://localhost:8080/"
        },
        "id": "EdPZfQbk5Ai9",
        "outputId": "2a7d4e33-3f37-492b-b7c5-a269bd2046f4"
      },
      "execution_count": 7,
      "outputs": [
        {
          "output_type": "stream",
          "name": "stdout",
          "text": [
            "['_c0', 'TV', 'Radio', 'Newspaper', 'Sales']\n"
          ]
        }
      ]
    },
    {
      "cell_type": "markdown",
      "source": [
        "## Renaming the column \"_c0\" to \"Index\" by using withcolumnRenamed method"
      ],
      "metadata": {
        "id": "mrOtnZLM5JkH"
      }
    },
    {
      "cell_type": "code",
      "source": [
        "df = df.withColumnRenamed(\"_c0\", \"Index\")\n",
        "\n",
        "# Printing to show the change in column name\n",
        "df.show(5)"
      ],
      "metadata": {
        "colab": {
          "base_uri": "https://localhost:8080/"
        },
        "id": "HhdpykvZ5Ix6",
        "outputId": "9dc3c4a1-bf9a-4311-bf0c-d4ff312f4ea9"
      },
      "execution_count": 8,
      "outputs": [
        {
          "output_type": "stream",
          "name": "stdout",
          "text": [
            "+-----+-----+-----+---------+-----+\n",
            "|Index|   TV|Radio|Newspaper|Sales|\n",
            "+-----+-----+-----+---------+-----+\n",
            "|    1|230.1| 37.8|     69.2| 22.1|\n",
            "|    2| 44.5| 39.3|     45.1| 10.4|\n",
            "|    3| 17.2| 45.9|     69.3|  9.3|\n",
            "|    4|151.5| 41.3|     58.5| 18.5|\n",
            "|    5|180.8| 10.8|     58.4| 12.9|\n",
            "+-----+-----+-----+---------+-----+\n",
            "only showing top 5 rows\n",
            "\n"
          ]
        }
      ]
    },
    {
      "cell_type": "code",
      "source": [
        "from pyspark.ml.feature import RFormula\n",
        "\n",
        "supervised = RFormula(formula = \"Sales ~  TV + Radio + Newspaper\")\n",
        "fittedRF = supervised.fit(df)\n",
        "preparedDF = fittedRF.transform(df)\n",
        "preparedDF.show(5, False)"
      ],
      "metadata": {
        "colab": {
          "base_uri": "https://localhost:8080/"
        },
        "id": "u111adcK5NRS",
        "outputId": "158b38a9-f69d-47b2-daa0-b945b69a28db"
      },
      "execution_count": 9,
      "outputs": [
        {
          "output_type": "stream",
          "name": "stdout",
          "text": [
            "+-----+-----+-----+---------+-----+-----------------+-----+\n",
            "|Index|TV   |Radio|Newspaper|Sales|features         |label|\n",
            "+-----+-----+-----+---------+-----+-----------------+-----+\n",
            "|1    |230.1|37.8 |69.2     |22.1 |[230.1,37.8,69.2]|22.1 |\n",
            "|2    |44.5 |39.3 |45.1     |10.4 |[44.5,39.3,45.1] |10.4 |\n",
            "|3    |17.2 |45.9 |69.3     |9.3  |[17.2,45.9,69.3] |9.3  |\n",
            "|4    |151.5|41.3 |58.5     |18.5 |[151.5,41.3,58.5]|18.5 |\n",
            "|5    |180.8|10.8 |58.4     |12.9 |[180.8,10.8,58.4]|12.9 |\n",
            "+-----+-----+-----+---------+-----+-----------------+-----+\n",
            "only showing top 5 rows\n",
            "\n"
          ]
        }
      ]
    },
    {
      "cell_type": "code",
      "source": [
        "# Same above transformation can be obtained ina sig\n",
        "\n",
        "testDf = RFormula(formula = \"Sales ~  TV + Radio + Newspaper\").fit(df).transform(df)\n",
        "\n",
        "testDf.show(5, False)"
      ],
      "metadata": {
        "colab": {
          "base_uri": "https://localhost:8080/"
        },
        "id": "zFniywUa5W2Y",
        "outputId": "95ed6b28-f974-4a1f-9011-55af6288210f"
      },
      "execution_count": 10,
      "outputs": [
        {
          "output_type": "stream",
          "name": "stdout",
          "text": [
            "+-----+-----+-----+---------+-----+-----------------+-----+\n",
            "|Index|TV   |Radio|Newspaper|Sales|features         |label|\n",
            "+-----+-----+-----+---------+-----+-----------------+-----+\n",
            "|1    |230.1|37.8 |69.2     |22.1 |[230.1,37.8,69.2]|22.1 |\n",
            "|2    |44.5 |39.3 |45.1     |10.4 |[44.5,39.3,45.1] |10.4 |\n",
            "|3    |17.2 |45.9 |69.3     |9.3  |[17.2,45.9,69.3] |9.3  |\n",
            "|4    |151.5|41.3 |58.5     |18.5 |[151.5,41.3,58.5]|18.5 |\n",
            "|5    |180.8|10.8 |58.4     |12.9 |[180.8,10.8,58.4]|12.9 |\n",
            "+-----+-----+-----+---------+-----+-----------------+-----+\n",
            "only showing top 5 rows\n",
            "\n"
          ]
        }
      ]
    },
    {
      "cell_type": "markdown",
      "source": [
        "# Using Vector Assembler to create Dense Feature Vector"
      ],
      "metadata": {
        "id": "_HGQQVI05bqv"
      }
    },
    {
      "cell_type": "code",
      "source": [
        "from pyspark.ml.feature import VectorAssembler\n",
        "\n",
        "va = VectorAssembler()\\\n",
        "    .setInputCols([\"TV\",\"Radio\", \"Newspaper\"])\\\n",
        "    .setOutputCol(\"va_features\")\n",
        "\n",
        "va.transform(preparedDF).show(5)"
      ],
      "metadata": {
        "colab": {
          "base_uri": "https://localhost:8080/"
        },
        "id": "dxsD1lew5ZP2",
        "outputId": "feedab06-fa02-45d6-85df-c4b1359afda3"
      },
      "execution_count": 11,
      "outputs": [
        {
          "output_type": "stream",
          "name": "stdout",
          "text": [
            "+-----+-----+-----+---------+-----+-----------------+-----+-----------------+\n",
            "|Index|   TV|Radio|Newspaper|Sales|         features|label|      va_features|\n",
            "+-----+-----+-----+---------+-----+-----------------+-----+-----------------+\n",
            "|    1|230.1| 37.8|     69.2| 22.1|[230.1,37.8,69.2]| 22.1|[230.1,37.8,69.2]|\n",
            "|    2| 44.5| 39.3|     45.1| 10.4| [44.5,39.3,45.1]| 10.4| [44.5,39.3,45.1]|\n",
            "|    3| 17.2| 45.9|     69.3|  9.3| [17.2,45.9,69.3]|  9.3| [17.2,45.9,69.3]|\n",
            "|    4|151.5| 41.3|     58.5| 18.5|[151.5,41.3,58.5]| 18.5|[151.5,41.3,58.5]|\n",
            "|    5|180.8| 10.8|     58.4| 12.9|[180.8,10.8,58.4]| 12.9|[180.8,10.8,58.4]|\n",
            "+-----+-----+-----+---------+-----+-----------------+-----+-----------------+\n",
            "only showing top 5 rows\n",
            "\n"
          ]
        }
      ]
    },
    {
      "cell_type": "markdown",
      "source": [
        "# Using RDDs to create feature vector and label"
      ],
      "metadata": {
        "id": "FEjFQEo45hwK"
      }
    },
    {
      "cell_type": "code",
      "source": [
        "from pyspark.ml.linalg import Vectors\n",
        "\n",
        "def vecTransform (data):\n",
        "    return data.rdd.map(lambda r: [Vectors.dense(r[:-1]),r[-1]]).toDF(['features','label'])\n",
        "\n",
        "\n",
        "\n",
        "vecTransform(df).show(5, False)"
      ],
      "metadata": {
        "colab": {
          "base_uri": "https://localhost:8080/"
        },
        "id": "WqmK0Pgw5dw0",
        "outputId": "4f326e9f-2d79-47bc-ed51-9bb458d74316"
      },
      "execution_count": 12,
      "outputs": [
        {
          "output_type": "stream",
          "name": "stdout",
          "text": [
            "+---------------------+-----+\n",
            "|features             |label|\n",
            "+---------------------+-----+\n",
            "|[1.0,230.1,37.8,69.2]|22.1 |\n",
            "|[2.0,44.5,39.3,45.1] |10.4 |\n",
            "|[3.0,17.2,45.9,69.3] |9.3  |\n",
            "|[4.0,151.5,41.3,58.5]|18.5 |\n",
            "|[5.0,180.8,10.8,58.4]|12.9 |\n",
            "+---------------------+-----+\n",
            "only showing top 5 rows\n",
            "\n"
          ]
        }
      ]
    },
    {
      "cell_type": "markdown",
      "source": [
        "## Using StandardScaler to scale the data"
      ],
      "metadata": {
        "id": "8sIZ9CnS5m4h"
      }
    },
    {
      "cell_type": "code",
      "source": [
        "from pyspark.ml.feature import StandardScaler\n",
        "\n",
        "scaler = StandardScaler().setInputCol(\"features\").setOutputCol(\"scaledFeatures\")\n",
        "\n",
        "scaledDF = scaler.fit(preparedDF).transform(preparedDF)"
      ],
      "metadata": {
        "id": "Z8zbOput5kD5"
      },
      "execution_count": 13,
      "outputs": []
    },
    {
      "cell_type": "code",
      "source": [
        "scaledDF.show(5, False)"
      ],
      "metadata": {
        "colab": {
          "base_uri": "https://localhost:8080/"
        },
        "id": "Ea4EUHsS5p8m",
        "outputId": "af61f39f-d453-4b31-beed-ccafcae196b5"
      },
      "execution_count": null,
      "outputs": [
        {
          "output_type": "stream",
          "name": "stdout",
          "text": [
            "+-----+-----+-----+---------+-----+-----------------+-----+----------------------------------------------------------+\n",
            "|Index|TV   |Radio|Newspaper|Sales|features         |label|scaledFeatures                                            |\n",
            "+-----+-----+-----+---------+-----+-----------------+-----+----------------------------------------------------------+\n",
            "|1    |230.1|37.8 |69.2     |22.1 |[230.1,37.8,69.2]|22.1 |[2.6801240087443956,2.546001605562121,3.1774280159006443] |\n",
            "|2    |44.5 |39.3 |45.1     |10.4 |[44.5,39.3,45.1] |10.4 |[0.5183203754416584,2.6470334153066495,2.0708382011144373]|\n",
            "|3    |17.2 |45.9 |69.3     |9.3  |[17.2,45.9,69.3] |9.3  |[0.2003395608448657,3.0915733781825754,3.182019674883159] |\n",
            "|4    |151.5|41.3 |58.5     |18.5 |[151.5,41.3,58.5]|18.5 |[1.7646188062789046,2.781742494966021,2.686120504771498]  |\n",
            "|5    |180.8|10.8 |58.4     |12.9 |[180.8,10.8,58.4]|12.9 |[2.105894918648356,0.727429030160606,2.6815288457889825]  |\n",
            "+-----+-----+-----+---------+-----+-----------------+-----+----------------------------------------------------------+\n",
            "only showing top 5 rows\n",
            "\n"
          ]
        }
      ]
    },
    {
      "cell_type": "code",
      "source": [
        "preparedDF.show(5)"
      ],
      "metadata": {
        "colab": {
          "base_uri": "https://localhost:8080/"
        },
        "id": "KUwMv_3q5ro8",
        "outputId": "a3801a59-9310-4ebc-f707-5b74f5f6eb1c"
      },
      "execution_count": 14,
      "outputs": [
        {
          "output_type": "stream",
          "name": "stdout",
          "text": [
            "+-----+-----+-----+---------+-----+-----------------+-----+\n",
            "|Index|   TV|Radio|Newspaper|Sales|         features|label|\n",
            "+-----+-----+-----+---------+-----+-----------------+-----+\n",
            "|    1|230.1| 37.8|     69.2| 22.1|[230.1,37.8,69.2]| 22.1|\n",
            "|    2| 44.5| 39.3|     45.1| 10.4| [44.5,39.3,45.1]| 10.4|\n",
            "|    3| 17.2| 45.9|     69.3|  9.3| [17.2,45.9,69.3]|  9.3|\n",
            "|    4|151.5| 41.3|     58.5| 18.5|[151.5,41.3,58.5]| 18.5|\n",
            "|    5|180.8| 10.8|     58.4| 12.9|[180.8,10.8,58.4]| 12.9|\n",
            "+-----+-----+-----+---------+-----+-----------------+-----+\n",
            "only showing top 5 rows\n",
            "\n"
          ]
        }
      ]
    },
    {
      "cell_type": "markdown",
      "source": [
        "#Using VectorIndexer to Index feature Vector"
      ],
      "metadata": {
        "id": "8hKC_Lz85zYv"
      }
    },
    {
      "cell_type": "code",
      "source": [
        "from pyspark.ml import Pipeline\n",
        "from pyspark.ml.regression import LinearRegression\n",
        "from pyspark.ml.feature import VectorIndexer\n",
        "from pyspark.ml.evaluation import RegressionEvaluator\n",
        "\n",
        "featureIndexer = VectorIndexer().setInputCol(\"features\").setOutputCol(\"indexedFeatures\").setMaxCategories(4).fit(preparedDF)\n",
        "\n",
        "data = featureIndexer.transform(preparedDF)\n",
        "\n",
        "data.show(5)"
      ],
      "metadata": {
        "colab": {
          "base_uri": "https://localhost:8080/"
        },
        "id": "GWyQO8js5xE-",
        "outputId": "281ed208-27e2-413d-cfc0-497e505137d3"
      },
      "execution_count": 15,
      "outputs": [
        {
          "output_type": "stream",
          "name": "stdout",
          "text": [
            "+-----+-----+-----+---------+-----+-----------------+-----+-----------------+\n",
            "|Index|   TV|Radio|Newspaper|Sales|         features|label|  indexedFeatures|\n",
            "+-----+-----+-----+---------+-----+-----------------+-----+-----------------+\n",
            "|    1|230.1| 37.8|     69.2| 22.1|[230.1,37.8,69.2]| 22.1|[230.1,37.8,69.2]|\n",
            "|    2| 44.5| 39.3|     45.1| 10.4| [44.5,39.3,45.1]| 10.4| [44.5,39.3,45.1]|\n",
            "|    3| 17.2| 45.9|     69.3|  9.3| [17.2,45.9,69.3]|  9.3| [17.2,45.9,69.3]|\n",
            "|    4|151.5| 41.3|     58.5| 18.5|[151.5,41.3,58.5]| 18.5|[151.5,41.3,58.5]|\n",
            "|    5|180.8| 10.8|     58.4| 12.9|[180.8,10.8,58.4]| 12.9|[180.8,10.8,58.4]|\n",
            "+-----+-----+-----+---------+-----+-----------------+-----+-----------------+\n",
            "only showing top 5 rows\n",
            "\n"
          ]
        }
      ]
    },
    {
      "cell_type": "code",
      "source": [
        "scaler = StandardScaler().setInputCol(\"indexedFeatures\").setOutputCol(\"scaledFeatures\")\n",
        "\n",
        "finalScaledData = scaler.fit(data).transform(data)\n",
        "\n",
        "finalScaledData.show(5, False)"
      ],
      "metadata": {
        "colab": {
          "base_uri": "https://localhost:8080/"
        },
        "id": "nyk7AtHN52QR",
        "outputId": "d5d6c80e-f557-423d-9889-8273640f0d55"
      },
      "execution_count": 16,
      "outputs": [
        {
          "output_type": "stream",
          "name": "stdout",
          "text": [
            "+-----+-----+-----+---------+-----+-----------------+-----+-----------------+----------------------------------------------------------+\n",
            "|Index|TV   |Radio|Newspaper|Sales|features         |label|indexedFeatures  |scaledFeatures                                            |\n",
            "+-----+-----+-----+---------+-----+-----------------+-----+-----------------+----------------------------------------------------------+\n",
            "|1    |230.1|37.8 |69.2     |22.1 |[230.1,37.8,69.2]|22.1 |[230.1,37.8,69.2]|[2.6801240087443956,2.546001605562121,3.1774280159006443] |\n",
            "|2    |44.5 |39.3 |45.1     |10.4 |[44.5,39.3,45.1] |10.4 |[44.5,39.3,45.1] |[0.5183203754416584,2.6470334153066495,2.0708382011144373]|\n",
            "|3    |17.2 |45.9 |69.3     |9.3  |[17.2,45.9,69.3] |9.3  |[17.2,45.9,69.3] |[0.2003395608448657,3.0915733781825754,3.182019674883159] |\n",
            "|4    |151.5|41.3 |58.5     |18.5 |[151.5,41.3,58.5]|18.5 |[151.5,41.3,58.5]|[1.7646188062789046,2.781742494966021,2.686120504771498]  |\n",
            "|5    |180.8|10.8 |58.4     |12.9 |[180.8,10.8,58.4]|12.9 |[180.8,10.8,58.4]|[2.105894918648356,0.727429030160606,2.6815288457889825]  |\n",
            "+-----+-----+-----+---------+-----+-----------------+-----+-----------------+----------------------------------------------------------+\n",
            "only showing top 5 rows\n",
            "\n"
          ]
        }
      ]
    },
    {
      "cell_type": "code",
      "source": [
        "inputData = finalScaledData.select([\"scaledFeatures\", \"label\"])\n",
        "\n",
        "# inputData = inputData.withColumnRenamed(\"scaledFeatures\", \"features\")\n",
        "\n",
        "inputData.show(5, False)"
      ],
      "metadata": {
        "colab": {
          "base_uri": "https://localhost:8080/"
        },
        "id": "CkoNN2W854qI",
        "outputId": "58bdd8aa-d54a-4db1-b3f2-afe1fb018162"
      },
      "execution_count": 17,
      "outputs": [
        {
          "output_type": "stream",
          "name": "stdout",
          "text": [
            "+----------------------------------------------------------+-----+\n",
            "|scaledFeatures                                            |label|\n",
            "+----------------------------------------------------------+-----+\n",
            "|[2.6801240087443956,2.546001605562121,3.1774280159006443] |22.1 |\n",
            "|[0.5183203754416584,2.6470334153066495,2.0708382011144373]|10.4 |\n",
            "|[0.2003395608448657,3.0915733781825754,3.182019674883159] |9.3  |\n",
            "|[1.7646188062789046,2.781742494966021,2.686120504771498]  |18.5 |\n",
            "|[2.105894918648356,0.727429030160606,2.6815288457889825]  |12.9 |\n",
            "+----------------------------------------------------------+-----+\n",
            "only showing top 5 rows\n",
            "\n"
          ]
        }
      ]
    },
    {
      "cell_type": "markdown",
      "source": [
        "# Fitting a Linear Regression Model"
      ],
      "metadata": {
        "id": "uDdNv39s6DIx"
      }
    },
    {
      "cell_type": "code",
      "source": [
        "training, test = inputData.randomSplit([0.8,0.2])\n",
        "\n",
        "print(\"Training set has {} records\".format(training.count()))\n",
        "print(\"Training set has {} records\".format(test.count()))"
      ],
      "metadata": {
        "colab": {
          "base_uri": "https://localhost:8080/"
        },
        "id": "_gI4oGvs5_vT",
        "outputId": "6a470a07-bd87-4dd9-a836-d6f04f328579"
      },
      "execution_count": 18,
      "outputs": [
        {
          "output_type": "stream",
          "name": "stdout",
          "text": [
            "Training set has 169 records\n",
            "Training set has 31 records\n"
          ]
        }
      ]
    },
    {
      "cell_type": "markdown",
      "source": [
        "# Creating an instace of LinearRegression class passing on parameters"
      ],
      "metadata": {
        "id": "2mXn8W1F6LLw"
      }
    },
    {
      "cell_type": "code",
      "source": [
        "lin_reg = LinearRegression(featuresCol=\"scaledFeatures\", labelCol = \"label\").setMaxIter(10).setRegParam(0.3).setElasticNetParam(0.8)\n",
        "\n",
        "print(lin_reg.explainParams()) # Explains the parameters of the model\n",
        "\n",
        "model = lin_reg.fit(training) # Fitting the Model"
      ],
      "metadata": {
        "colab": {
          "base_uri": "https://localhost:8080/"
        },
        "id": "pRt9W6_f6G38",
        "outputId": "1baf5a5a-4625-47d0-c814-cd736687f930"
      },
      "execution_count": 19,
      "outputs": [
        {
          "output_type": "stream",
          "name": "stdout",
          "text": [
            "aggregationDepth: suggested depth for treeAggregate (>= 2). (default: 2)\n",
            "elasticNetParam: the ElasticNet mixing parameter, in range [0, 1]. For alpha = 0, the penalty is an L2 penalty. For alpha = 1, it is an L1 penalty. (default: 0.0, current: 0.8)\n",
            "epsilon: The shape parameter to control the amount of robustness. Must be > 1.0. Only valid when loss is huber (default: 1.35)\n",
            "featuresCol: features column name. (default: features, current: scaledFeatures)\n",
            "fitIntercept: whether to fit an intercept term. (default: True)\n",
            "labelCol: label column name. (default: label, current: label)\n",
            "loss: The loss function to be optimized. Supported options: squaredError, huber. (default: squaredError)\n",
            "maxBlockSizeInMB: maximum memory in MB for stacking input data into blocks. Data is stacked within partitions. If more than remaining data size in a partition then it is adjusted to the data size. Default 0.0 represents choosing optimal value, depends on specific algorithm. Must be >= 0. (default: 0.0)\n",
            "maxIter: max number of iterations (>= 0). (default: 100, current: 10)\n",
            "predictionCol: prediction column name. (default: prediction)\n",
            "regParam: regularization parameter (>= 0). (default: 0.0, current: 0.3)\n",
            "solver: The solver algorithm for optimization. Supported options: auto, normal, l-bfgs. (default: auto)\n",
            "standardization: whether to standardize the training features before fitting the model. (default: True)\n",
            "tol: the convergence tolerance for iterative algorithms (>= 0). (default: 1e-06)\n",
            "weightCol: weight column name. If this is not set or empty, we treat all instance weights as 1.0. (undefined)\n"
          ]
        }
      ]
    },
    {
      "cell_type": "code",
      "source": [
        "print('###' * 30)\n",
        "print(\"Coffiecients of the model are: {}\".format(model.coefficients))\n",
        "print('###' * 30)\n",
        "print('###' * 30)\n",
        "\n",
        "print(\"Intercept of linear regression equation is: {}\".format(model.intercept))\n",
        "\n",
        "print('###' * 30)\n",
        "print('###' * 30)\n",
        "summary = model.summary # creating an instance of model summary\n",
        "\n",
        "print('###' * 30)\n",
        "print('###' * 30)\n",
        "print(\"The residual values after the fit are: \")\n",
        "summary.residuals.show() # This returns only the first 20 values\n",
        "\n",
        "print('###' * 30)\n",
        "print('###' * 30)\n",
        "print(\"The calculated loss for the objective function at each iteration is: \")\n",
        "print(summary.objectiveHistory)\n",
        "\n",
        "print('###' * 30)\n",
        "print('###' * 30)\n",
        "print(\"The RMSE value of the fitted model: {}\".format(summary.rootMeanSquaredError))\n",
        "\n",
        "print('###' * 30)\n",
        "print('###' * 30)\n",
        "print(\"The R2 score of the fitted model: {}\".format(summary.r2))"
      ],
      "metadata": {
        "colab": {
          "base_uri": "https://localhost:8080/"
        },
        "id": "iu27MRks6LhU",
        "outputId": "88f561d7-0fa5-474f-affc-82f7b4171d9f"
      },
      "execution_count": 20,
      "outputs": [
        {
          "output_type": "stream",
          "name": "stdout",
          "text": [
            "##########################################################################################\n",
            "Coffiecients of the model are: [3.5935141589659745,2.578221991929001,0.0]\n",
            "##########################################################################################\n",
            "##########################################################################################\n",
            "Intercept of linear regression equation is: 3.8368710089065368\n",
            "##########################################################################################\n",
            "##########################################################################################\n",
            "##########################################################################################\n",
            "##########################################################################################\n",
            "The residual values after the fit are: \n",
            "+-------------------+\n",
            "|          residuals|\n",
            "+-------------------+\n",
            "| -9.142906454208802|\n",
            "| -2.822878060596243|\n",
            "|  -3.95517654111175|\n",
            "|-3.2118761339049025|\n",
            "|0.23849205957011588|\n",
            "|-3.4344539765354645|\n",
            "| 0.8453535241442758|\n",
            "|-1.5504838905747738|\n",
            "|-3.4329588304792935|\n",
            "| 0.6312206236312834|\n",
            "| -3.227556530696136|\n",
            "| -3.115519591015545|\n",
            "|-0.0208030099174783|\n",
            "|-1.3920761851501222|\n",
            "|-0.8273565315477605|\n",
            "|-0.5477130487512287|\n",
            "|-1.7283325494336257|\n",
            "| 0.4065246970045502|\n",
            "|-0.8503887530383771|\n",
            "|-2.1809276613747652|\n",
            "+-------------------+\n",
            "only showing top 20 rows\n",
            "\n",
            "##########################################################################################\n",
            "##########################################################################################\n",
            "The calculated loss for the objective function at each iteration is: \n",
            "[0.49999999999999956, 0.41304116715458533, 0.11160699926393809, 0.11003990501925605, 0.1096717465408851, 0.10966491802098749, 0.10966384818510536, 0.10966382295536814, 0.10966382201421537, 0.10966382198006339, 0.10966382197882459]\n",
            "##########################################################################################\n",
            "##########################################################################################\n",
            "The RMSE value of the fitted model: 1.6786513105388015\n",
            "##########################################################################################\n",
            "##########################################################################################\n",
            "The R2 score of the fitted model: 0.897061023924243\n"
          ]
        }
      ]
    },
    {
      "cell_type": "markdown",
      "source": [
        "# Predictions on Test Data"
      ],
      "metadata": {
        "id": "izgCbtVM6UlN"
      }
    },
    {
      "cell_type": "code",
      "source": [
        "predictions = model.transform(test)\n",
        "predictions.show(30, False)"
      ],
      "metadata": {
        "colab": {
          "base_uri": "https://localhost:8080/"
        },
        "id": "29hZ_N176RnE",
        "outputId": "1cd698a2-87d0-42b9-a18f-ccb27e0329e9"
      },
      "execution_count": 21,
      "outputs": [
        {
          "output_type": "stream",
          "name": "stdout",
          "text": [
            "+-----------------------------------------------------------+-----+------------------+\n",
            "|scaledFeatures                                             |label|prediction        |\n",
            "+-----------------------------------------------------------+-----+------------------+\n",
            "|[0.08502783687020464,1.8926625692141694,1.9009468187613678]|5.5  |9.022124003854682 |\n",
            "|[0.09085166131336933,2.620091599374775,2.323379445152783]  |6.6  |10.918525522578184|\n",
            "|[0.1013345453110658,3.2936369976716326,3.443744236886536]  |7.2  |12.69274547310224 |\n",
            "|[0.44261065768051727,2.7143879551363352,0.5464074189193304]|10.9 |12.425693394750407|\n",
            "|[0.5008489021121643,1.7444825815888607,0.9412900914156532] |9.6  |10.13434198653864 |\n",
            "|[0.7256485256183217,0.8486672018540403,0.8402735938003149] |9.7  |8.632551703797695 |\n",
            "|[0.779227710495437,0.7880481160073232,1.6897305055656602]  |9.7  |8.668799803018826 |\n",
            "|[0.8700793718088063,3.3273142675864755,2.0983881550095296] |14.7 |15.54206836967629 |\n",
            "|[1.0284873966628862,1.7175407656569863,3.3702776931662903] |12.9 |11.960956405184088|\n",
            "|[1.114679998421724,0.09429635576156004,0.3397827647061382] |9.5  |8.085606304134387 |\n",
            "|[1.132151471751218,0.1010318097445286,1.3774976947546145]  |9.6  |8.165755786506436 |\n",
            "|[1.169423948187472,0.646603582364983,0.16529972337055374]  |10.7 |9.706300100665585 |\n",
            "|[1.1962135406260297,1.993694378958698,0.38569935453129206] |14.0 |13.27566799730954 |\n",
            "|[1.365104449477806,0.9901117354963803,0.24794958505583062] |11.9 |11.295121027496242|\n",
            "|[1.403541690802693,1.9196043851460436,0.6520155755171841]  |14.2 |13.829684189091935|\n",
            "|[1.6458127876383446,1.805101667435578,2.121346449922106]   |15.5 |14.405075380942305|\n",
            "|[1.6644490258564717,1.9734880170097924,0.5785490317969381] |15.0 |14.906182356461892|\n",
            "|[1.7436530382835114,2.3978216179368124,0.2754995389509229] |17.3 |16.284829318389843|\n",
            "|[1.9428278342397445,2.8288906728468013,0.16529972337055374]|19.6 |18.11195848517671 |\n",
            "|[2.1536502790823064,2.956864298523204,0.07805820270276148] |20.7 |19.19949634185207 |\n",
            "|[2.327200247488615,0.2087990734720258,1.5887140079503221]  |11.4 |12.73802841212597 |\n",
            "|[2.4553243852382383,3.340785175552413,1.7310554364082988]  |23.8 |21.27339976203419 |\n",
            "|[2.5601532252152026,2.2563770842944724,2.0708382011144373] |19.6 |18.85425889365242 |\n",
            "|[2.5659770496583674,3.300372451654601,0.14693308744049222] |24.7 |21.566838704848145|\n",
            "|[2.568306579435633,2.236170722345567,1.7402387543733295]   |20.1 |18.831461600733054|\n",
            "|[2.590437112319659,0.2896245212676487,2.28664617329266]    |11.7 |13.892359760072324|\n",
            "|[2.6300391185331793,0.552307226603423,2.5942873251211904]  |13.4 |14.711924457920166|\n",
            "|[2.7966004976076895,0.4916881407567059,0.39947433147883815]|13.2 |15.15417567170068 |\n",
            "|[2.7966004976076895,1.124820815155752,1.0514899069960222]  |15.9 |16.786532256645124|\n",
            "|[2.9561732873504023,1.4346516983723063,1.3774976947546145] |17.6 |18.15877213285897 |\n",
            "+-----------------------------------------------------------+-----+------------------+\n",
            "only showing top 30 rows\n",
            "\n"
          ]
        }
      ]
    },
    {
      "cell_type": "code",
      "source": [
        "from pyspark.ml.evaluation import RegressionEvaluator\n",
        "\n",
        "reg_eval = RegressionEvaluator(predictionCol = \"prediction\", labelCol = \"label\", metricName = \"rmse\")\n",
        "\n",
        "print(\"The RMSE value on test data: {}\".format(reg_eval.evaluate(predictions)))"
      ],
      "metadata": {
        "colab": {
          "base_uri": "https://localhost:8080/"
        },
        "id": "c7okOx0d6WEF",
        "outputId": "d0d1a39d-c80f-4f5f-f75c-fed0dffbc1d5"
      },
      "execution_count": 22,
      "outputs": [
        {
          "output_type": "stream",
          "name": "stdout",
          "text": [
            "The RMSE value on test data: 1.914127303602714\n"
          ]
        }
      ]
    }
  ]
}